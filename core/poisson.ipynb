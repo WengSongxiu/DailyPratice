{
 "cells": [
  {
   "cell_type": "code",
   "execution_count": 42,
   "metadata": {},
   "outputs": [],
   "source": [
    "import numpy as np\n",
    "import matplotlib.pyplot as plt"
   ]
  },
  {
   "cell_type": "code",
   "execution_count": 46,
   "metadata": {},
   "outputs": [],
   "source": [
    "list_b = np.random.poisson(14,1000)#试验重复1000次"
   ]
  },
  {
   "cell_type": "code",
   "execution_count": 47,
   "metadata": {},
   "outputs": [
    {
     "data": {
      "text/plain": [
       "14.01164"
      ]
     },
     "execution_count": 47,
     "metadata": {},
     "output_type": "execute_result"
    }
   ],
   "source": [
    "np.mean(list_b)"
   ]
  },
  {
   "cell_type": "code",
   "execution_count": 48,
   "metadata": {},
   "outputs": [
    {
     "data": {
      "text/plain": [
       "(array([1.3000e+01, 0.0000e+00, 0.0000e+00, 3.7000e+01, 0.0000e+00,\n",
       "        0.0000e+00, 1.4500e+02, 0.0000e+00, 0.0000e+00, 3.4700e+02,\n",
       "        0.0000e+00, 0.0000e+00, 8.4000e+02, 0.0000e+00, 0.0000e+00,\n",
       "        0.0000e+00, 1.7070e+03, 0.0000e+00, 0.0000e+00, 2.9970e+03,\n",
       "        0.0000e+00, 0.0000e+00, 4.7490e+03, 0.0000e+00, 0.0000e+00,\n",
       "        6.7370e+03, 0.0000e+00, 0.0000e+00, 0.0000e+00, 8.4210e+03,\n",
       "        0.0000e+00, 0.0000e+00, 9.8310e+03, 0.0000e+00, 0.0000e+00,\n",
       "        1.0582e+04, 0.0000e+00, 0.0000e+00, 1.0437e+04, 0.0000e+00,\n",
       "        0.0000e+00, 9.9490e+03, 0.0000e+00, 0.0000e+00, 0.0000e+00,\n",
       "        8.6030e+03, 0.0000e+00, 0.0000e+00, 7.1570e+03, 0.0000e+00,\n",
       "        0.0000e+00, 5.6280e+03, 0.0000e+00, 0.0000e+00, 4.1410e+03,\n",
       "        0.0000e+00, 0.0000e+00, 0.0000e+00, 2.8720e+03, 0.0000e+00,\n",
       "        0.0000e+00, 1.9500e+03, 0.0000e+00, 0.0000e+00, 1.1970e+03,\n",
       "        0.0000e+00, 0.0000e+00, 7.2300e+02, 0.0000e+00, 0.0000e+00,\n",
       "        4.6200e+02, 0.0000e+00, 0.0000e+00, 0.0000e+00, 2.1900e+02,\n",
       "        0.0000e+00, 0.0000e+00, 1.3600e+02, 0.0000e+00, 0.0000e+00,\n",
       "        5.7000e+01, 0.0000e+00, 0.0000e+00, 3.3000e+01, 0.0000e+00,\n",
       "        0.0000e+00, 0.0000e+00, 1.5000e+01, 0.0000e+00, 0.0000e+00,\n",
       "        5.0000e+00, 0.0000e+00, 0.0000e+00, 7.0000e+00, 0.0000e+00,\n",
       "        0.0000e+00, 2.0000e+00, 0.0000e+00, 0.0000e+00, 1.0000e+00]),\n",
       " array([ 2.  ,  2.31,  2.62,  2.93,  3.24,  3.55,  3.86,  4.17,  4.48,\n",
       "         4.79,  5.1 ,  5.41,  5.72,  6.03,  6.34,  6.65,  6.96,  7.27,\n",
       "         7.58,  7.89,  8.2 ,  8.51,  8.82,  9.13,  9.44,  9.75, 10.06,\n",
       "        10.37, 10.68, 10.99, 11.3 , 11.61, 11.92, 12.23, 12.54, 12.85,\n",
       "        13.16, 13.47, 13.78, 14.09, 14.4 , 14.71, 15.02, 15.33, 15.64,\n",
       "        15.95, 16.26, 16.57, 16.88, 17.19, 17.5 , 17.81, 18.12, 18.43,\n",
       "        18.74, 19.05, 19.36, 19.67, 19.98, 20.29, 20.6 , 20.91, 21.22,\n",
       "        21.53, 21.84, 22.15, 22.46, 22.77, 23.08, 23.39, 23.7 , 24.01,\n",
       "        24.32, 24.63, 24.94, 25.25, 25.56, 25.87, 26.18, 26.49, 26.8 ,\n",
       "        27.11, 27.42, 27.73, 28.04, 28.35, 28.66, 28.97, 29.28, 29.59,\n",
       "        29.9 , 30.21, 30.52, 30.83, 31.14, 31.45, 31.76, 32.07, 32.38,\n",
       "        32.69, 33.  ]),\n",
       " <BarContainer object of 100 artists>)"
      ]
     },
     "execution_count": 48,
     "metadata": {},
     "output_type": "execute_result"
    },
    {
     "data": {
      "image/png": "[encoded data removed]",
      "text/plain": [
       "<Figure size 432x288 with 1 Axes>"
      ]
     },
     "metadata": {
      "needs_background": "light"
     },
     "output_type": "display_data"
    }
   ],
   "source": [
    "plt.hist(list_b,bins=100,color='g',alpha=0.4,edgecolor='b')"
   ]
  }
 ],
 "metadata": {
  "kernelspec": {
   "display_name": "Python 3",
   "language": "python",
   "name": "python3"
  },
  "language_info": {
   "codemirror_mode": {
    "name": "ipython",
    "version": 3
   },
   "file_extension": ".py",
   "mimetype": "text/x-python",
   "name": "python",
   "nbconvert_exporter": "python",
   "pygments_lexer": "ipython3",
   "version": "3.7.4"
  }
 },
 "nbformat": 4,
 "nbformat_minor": 2
}
